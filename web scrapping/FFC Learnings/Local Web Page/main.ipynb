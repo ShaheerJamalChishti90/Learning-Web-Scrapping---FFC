{
 "cells": [
  {
   "cell_type": "code",
   "execution_count": 4,
   "id": "6b742c98",
   "metadata": {},
   "outputs": [],
   "source": [
    "from bs4 import BeautifulSoup\n",
    "\n",
    "with open(\"D:\\\\Visual Studio Codes\\\\Beautiful Soup Free Code Camp\\\\web scrapping\\\\FFC Learnings\\\\home.html\", \"r\") as file:\n",
    "    contents = file.read()\n",
    "    \n",
    "soup = BeautifulSoup(contents, \"lxml\") "
   ]
  },
  {
   "cell_type": "code",
   "execution_count": 5,
   "id": "e2a686f4",
   "metadata": {},
   "outputs": [],
   "source": [
    "course_cards = soup.find_all(\"div\", class_=\"card\")\n"
   ]
  },
  {
   "cell_type": "code",
   "execution_count": 6,
   "id": "92ec7b78",
   "metadata": {},
   "outputs": [
    {
     "name": "stdout",
     "output_type": "stream",
     "text": [
      "Python for beginners costs 20$\n",
      "Python Web Development costs 50$\n",
      "Python Machine Learning costs 100$\n"
     ]
    }
   ],
   "source": [
    "for course in course_cards:\n",
    "    # print(course)  \n",
    "    course_name = course.h5.text.strip() \n",
    "    # course_price = course.a.text.strip()\n",
    "    course_price = course.a.text.split()[-1] # Extract the course price(last element) from the anchor \"a\" tag\n",
    "    # print(f\"The name of this course is: {course_name}\")\n",
    "    # print(f\"The price of this course is: {course_price}\\n\") \n",
    "    print(f\"{course_name} costs {course_price}\")  \n",
    "    \n",
    "    \n",
    "    \n",
    "    # print(course.h5.text)\n",
    "    # print(course.text)  \n",
    "    \n",
    "    # print(course.text.strip())  \n",
    "\n",
    "     "
   ]
  }
 ],
 "metadata": {
  "kernelspec": {
   "display_name": "Python 3",
   "language": "python",
   "name": "python3"
  },
  "language_info": {
   "codemirror_mode": {
    "name": "ipython",
    "version": 3
   },
   "file_extension": ".py",
   "mimetype": "text/x-python",
   "name": "python",
   "nbconvert_exporter": "python",
   "pygments_lexer": "ipython3",
   "version": "3.12.4"
  }
 },
 "nbformat": 4,
 "nbformat_minor": 5
}
