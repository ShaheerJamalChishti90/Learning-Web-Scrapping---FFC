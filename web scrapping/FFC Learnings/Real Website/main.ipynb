{
 "cells": [
  {
   "cell_type": "markdown",
   "id": "3db6f0ad",
   "metadata": {},
   "source": [
    "Scrapping TimesJobs Website "
   ]
  },
  {
   "cell_type": "code",
   "execution_count": 1,
   "id": "9834f026",
   "metadata": {},
   "outputs": [],
   "source": [
    "import requests\n",
    "from bs4 import BeautifulSoup"
   ]
  },
  {
   "cell_type": "code",
   "execution_count": 3,
   "id": "507a1e37",
   "metadata": {},
   "outputs": [],
   "source": [
    "url = \"https://m.timesjobs.com/mobile/jobs-search-result.html?txtKeywords=Python&cboWorkExp1=-1&txtLocation=\"\n",
    "web = requests.get(url).content\n",
    "soup = BeautifulSoup(web, \"lxml\")"
   ]
  },
  {
   "cell_type": "code",
   "execution_count": null,
   "id": "2877e3db",
   "metadata": {},
   "outputs": [],
   "source": [
    "#This allows me to get \"ul\" which is the parent of \"li\", after accessing the \"ul\" with the help of its id, i was fetched \"li\" bc i already got \"ul\" \n",
    "#I did all of this bc \"li\" didnt has its own id, so i had to access it through its parent \"ul\"\n",
    "\n",
    "jobs_html = soup.find(\"ul\", {\"id\": \"jobsListULid\"}).find(\"li\")\n",
    "print(jobs_html)"
   ]
  },
  {
   "cell_type": "code",
   "execution_count": null,
   "id": "ce059b1b",
   "metadata": {},
   "outputs": [
    {
     "name": "stdout",
     "output_type": "stream",
     "text": [
      "Python Engineer\n"
     ]
    }
   ],
   "source": [
    "#Doing the same thing here, this time just reading the data from the \"jobs_html\", finding its div and accessing it through its class after getting the \"div\" im fiding \"h3\" tag inside it and fetching its text \n",
    "# I did all of this because the \"h3\" tag is not unique, so i had to access it through its parent \"div\" and then get the text from it\n",
    "\n",
    "company_name = jobs_html.find(\"div\", {\"class\": \"srp-job-heading\"}).find(\"h3\").text.strip()\n",
    "print(company_name)"
   ]
  },
  {
   "cell_type": "code",
   "execution_count": null,
   "id": "b7d18fd3",
   "metadata": {},
   "outputs": [],
   "source": [
    "#I did try to access the \"h3\" tag directly from the \"jobs_html\" but it returned None, so i had to access it through its parent \"div\" and then get the text from it\n",
    "\n",
    "company_name = jobs_html.find(\"h3\", class_ = \"ui-link\")\n",
    "# print(company_name)"
   ]
  }
 ],
 "metadata": {
  "kernelspec": {
   "display_name": "Python 3",
   "language": "python",
   "name": "python3"
  },
  "language_info": {
   "codemirror_mode": {
    "name": "ipython",
    "version": 3
   },
   "file_extension": ".py",
   "mimetype": "text/x-python",
   "name": "python",
   "nbconvert_exporter": "python",
   "pygments_lexer": "ipython3",
   "version": "3.12.4"
  }
 },
 "nbformat": 4,
 "nbformat_minor": 5
}
