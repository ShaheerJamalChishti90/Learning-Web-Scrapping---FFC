{
 "cells": [
  {
   "cell_type": "code",
   "execution_count": 2,
   "id": "bb81000f",
   "metadata": {},
   "outputs": [],
   "source": [
    "import requests\n",
    "from bs4 import BeautifulSoup"
   ]
  },
  {
   "cell_type": "code",
   "execution_count": 3,
   "id": "d8380412",
   "metadata": {},
   "outputs": [],
   "source": [
    "url = \"https://m.timesjobs.com/mobile/jobs-search-result.html?jobsSearchCriteria=Information%20Technology&cboPresFuncArea=35\"\n",
    "web = requests.get(url).content\n",
    "soup = BeautifulSoup(web, \"lxml\")\n"
   ]
  },
  {
   "cell_type": "code",
   "execution_count": 16,
   "id": "e5ae5524",
   "metadata": {},
   "outputs": [
    {
     "name": "stdout",
     "output_type": "stream",
     "text": [
      "Title: None\n",
      "Title: None\n",
      "Title: None\n",
      "Title: None\n",
      "Title: None\n",
      "Title: None\n",
      "Title: None\n",
      "Title: None\n",
      "Title: None\n",
      "Title: None\n",
      "Title: None\n",
      "Title: None\n",
      "Title: None\n",
      "Title: None\n",
      "Title: None\n",
      "Title: None\n",
      "Title: None\n",
      "Title: None\n",
      "Title: None\n",
      "Title: None\n",
      "Title: None\n",
      "Title: None\n",
      "Title: None\n",
      "Title: None\n",
      "Title: None\n"
     ]
    }
   ],
   "source": [
    "job_headings = soup.find_all(\"div\", class_=\"srp-job-bx\")\n",
    "\n",
    "for job in job_headings:\n",
    "    title = job.find(\"h3\", class_=\"ui-link\")\n",
    "    # company = job.find(\"span\", class_=\"srp-company-name\").text.strip()\n",
    "    # location = job.find(\"span\", class_=\"srp-location\").text.strip()\n",
    "    # date = job.find(\"span\", class_=\"srp-date\").text.strip()\n",
    "    # salary = job.find(\"span\", class_=\"srp-salary\").text.strip()\n",
    "\n",
    "    print(f\"Title: {title}\")\n",
    "    # print(f\"Company: {company}\")\n",
    "    # print(f\"Location: {location}\")\n",
    "    # print(f\"Date: {date}\")\n",
    "    # print(f\"Salary: {salary}\")\n",
    "    # print(\"-\" * 40)"
   ]
  }
 ],
 "metadata": {
  "kernelspec": {
   "display_name": "Python 3",
   "language": "python",
   "name": "python3"
  },
  "language_info": {
   "codemirror_mode": {
    "name": "ipython",
    "version": 3
   },
   "file_extension": ".py",
   "mimetype": "text/x-python",
   "name": "python",
   "nbconvert_exporter": "python",
   "pygments_lexer": "ipython3",
   "version": "3.12.4"
  }
 },
 "nbformat": 4,
 "nbformat_minor": 5
}
